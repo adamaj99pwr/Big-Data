{
 "cells": [
  {
   "cell_type": "markdown",
   "metadata": {},
   "source": [
    "https://nycopendata.socrata.com/Social-Services/311-Service-Requests-from-2010-to-Present/erm2-nwe9/about_data\n",
    "\n",
    "https://docs.python.org/3/library/sqlite3.html"
   ]
  },
  {
   "cell_type": "code",
   "execution_count": 2,
   "metadata": {},
   "outputs": [],
   "source": [
    "import sqlite3\n",
    "import dask.dataframe as dd"
   ]
  },
  {
   "cell_type": "markdown",
   "metadata": {},
   "source": [
    "Plain csv\n",
    "\n",
    "Tried to read the csv with pandas, but received MemoryError - thus using dask.\n",
    "\n",
    "Dask uses parallel computing, operates on data in chunks."
   ]
  },
  {
   "cell_type": "code",
   "execution_count": 40,
   "metadata": {},
   "outputs": [],
   "source": [
    "cols_to_use = [\"Agency\", \"Complaint Type\", \"Borough\"]\n",
    "cols_dtypes = {\"Agency\": \"object\", \"Complaint Type\": \"object\", \"Borough\": \"object\"}\n",
    "data = dd.read_csv(\"../../311sr.csv\", usecols=cols_to_use, dtype=cols_dtypes)"
   ]
  },
  {
   "cell_type": "code",
   "execution_count": 37,
   "metadata": {},
   "outputs": [
    {
     "data": {
      "text/plain": [
       "Agency                0\n",
       "Complaint Type        0\n",
       "Borough           47074\n",
       "dtype: int64"
      ]
     },
     "execution_count": 37,
     "metadata": {},
     "output_type": "execute_result"
    }
   ],
   "source": [
    "data.isna().sum().compute()"
   ]
  },
  {
   "cell_type": "code",
   "execution_count": 41,
   "metadata": {},
   "outputs": [
    {
     "data": {
      "text/plain": [
       "0           QUEENS\n",
       "1      Unspecified\n",
       "2            BRONX\n",
       "3         BROOKLYN\n",
       "4        MANHATTAN\n",
       "5    STATEN ISLAND\n",
       "6              NaN\n",
       "Name: Borough, dtype: object"
      ]
     },
     "execution_count": 41,
     "metadata": {},
     "output_type": "execute_result"
    }
   ],
   "source": [
    "data[\"Borough\"].unique().compute()"
   ]
  },
  {
   "cell_type": "code",
   "execution_count": 42,
   "metadata": {},
   "outputs": [],
   "source": [
    "data[\"Borough\"] = data[\"Borough\"].fillna(\"Unspecified\")"
   ]
  },
  {
   "cell_type": "code",
   "execution_count": 43,
   "metadata": {},
   "outputs": [
    {
     "data": {
      "text/plain": [
       "Agency            0\n",
       "Complaint Type    0\n",
       "Borough           0\n",
       "dtype: int64"
      ]
     },
     "execution_count": 43,
     "metadata": {},
     "output_type": "execute_result"
    }
   ],
   "source": [
    "data.isna().sum().compute()"
   ]
  },
  {
   "cell_type": "code",
   "execution_count": 44,
   "metadata": {},
   "outputs": [
    {
     "data": {
      "text/plain": [
       "{'Agency': dtype('O'), 'Complaint Type': dtype('O'), 'Borough': dtype('O')}"
      ]
     },
     "execution_count": 44,
     "metadata": {},
     "output_type": "execute_result"
    }
   ],
   "source": [
    "coltypes = dict(data.dtypes)\n",
    "coltypes"
   ]
  },
  {
   "cell_type": "code",
   "execution_count": 45,
   "metadata": {},
   "outputs": [
    {
     "name": "stdout",
     "output_type": "stream",
     "text": [
      "CPU times: total: 3min 8s\n",
      "Wall time: 1min 6s\n"
     ]
    }
   ],
   "source": [
    "%%time\n",
    "most_common_complaint = data[\"Complaint Type\"].value_counts().compute().idxmax()"
   ]
  },
  {
   "cell_type": "code",
   "execution_count": 46,
   "metadata": {},
   "outputs": [
    {
     "name": "stdout",
     "output_type": "stream",
     "text": [
      "Noise - Residential\n"
     ]
    }
   ],
   "source": [
    "print(most_common_complaint)"
   ]
  },
  {
   "cell_type": "code",
   "execution_count": 47,
   "metadata": {},
   "outputs": [
    {
     "name": "stdout",
     "output_type": "stream",
     "text": [
      "CPU times: total: 3min 4s\n",
      "Wall time: 1min 4s\n"
     ]
    }
   ],
   "source": [
    "%%time\n",
    "complaint_counts_by_borough = data.groupby(\"Borough\")[\"Complaint Type\"].value_counts().compute()\n",
    "most_common_complaints = complaint_counts_by_borough.groupby(\"Borough\").idxmax()"
   ]
  },
  {
   "cell_type": "code",
   "execution_count": 48,
   "metadata": {},
   "outputs": [
    {
     "name": "stdout",
     "output_type": "stream",
     "text": [
      "Borough\n",
      "BRONX                 (BRONX, Noise - Residential)\n",
      "BROOKLYN           (BROOKLYN, Noise - Residential)\n",
      "MANHATTAN         (MANHATTAN, Noise - Residential)\n",
      "QUEENS                   (QUEENS, Illegal Parking)\n",
      "STATEN ISLAND    (STATEN ISLAND, Street Condition)\n",
      "Unspecified                 (Unspecified, HEATING)\n",
      "Name: count, dtype: object\n"
     ]
    }
   ],
   "source": [
    "print(most_common_complaints)"
   ]
  },
  {
   "cell_type": "code",
   "execution_count": 49,
   "metadata": {},
   "outputs": [
    {
     "name": "stdout",
     "output_type": "stream",
     "text": [
      "CPU times: total: 2min 57s\n",
      "Wall time: 1min 1s\n"
     ]
    }
   ],
   "source": [
    "%%time\n",
    "complaints_list = [\"Noise - Residential\", \"Illegal Parking\", \"Street Condition\", \"HEATING\"]\n",
    "agencies_with_complaints = data[data[\"Complaint Type\"].isin(complaints_list)]\n",
    "agencies_with_complaints_count = agencies_with_complaints.groupby([\"Agency\", \"Complaint Type\"]).size().compute()"
   ]
  },
  {
   "cell_type": "code",
   "execution_count": 50,
   "metadata": {},
   "outputs": [
    {
     "name": "stdout",
     "output_type": "stream",
     "text": [
      "Agency  Complaint Type     \n",
      "DOT     Street Condition       1246723\n",
      "HPD     HEATING                 887869\n",
      "NYPD    Illegal Parking        2399699\n",
      "        Noise - Residential    3303371\n",
      "3-1-1   Illegal Parking              2\n",
      "NYPD    Street Condition             6\n",
      "DOITT   Noise - Residential          2\n",
      "dtype: int64\n"
     ]
    }
   ],
   "source": [
    "print(agencies_with_complaints_count)"
   ]
  },
  {
   "cell_type": "markdown",
   "metadata": {},
   "source": [
    "SQLite"
   ]
  },
  {
   "cell_type": "code",
   "execution_count": 3,
   "metadata": {},
   "outputs": [],
   "source": [
    "cols_to_use = [\"Agency\", \"Complaint Type\", \"Borough\"]\n",
    "cols_dtypes = {\"Agency\": \"object\", \"Complaint Type\": \"object\", \"Borough\": \"object\"}\n",
    "data = dd.read_csv(\"../../311sr.csv\", usecols=cols_to_use, dtype=cols_dtypes)\n",
    "data = data.rename(columns={'Complaint Type': 'ComplaintType'})\n",
    "data[\"Borough\"] = data[\"Borough\"].fillna(\"Unspecified\")"
   ]
  },
  {
   "cell_type": "code",
   "execution_count": 4,
   "metadata": {},
   "outputs": [],
   "source": [
    "script = \"CREATE TABLE mytable(Agency TEXT, ComplaintType TEXT, Borough TEXT)\"\n",
    "script2 = \"INSERT INTO mytable VALUES(?, ?, ?)\""
   ]
  },
  {
   "cell_type": "code",
   "execution_count": 17,
   "metadata": {},
   "outputs": [
    {
     "name": "stdout",
     "output_type": "stream",
     "text": [
      "CPU times: total: 3min 20s\n",
      "Wall time: 1min 34s\n"
     ]
    }
   ],
   "source": [
    "%%time\n",
    "records = data.to_records(index=False).compute()\n",
    "records = list(records) # create a list of tuples representing rows\n",
    "con = sqlite3.connect(\"task2.db\") # create a connection to database\n",
    "cur = con.cursor() # create database cursor\n",
    "cur.execute(script) # create table"
   ]
  },
  {
   "cell_type": "code",
   "execution_count": 6,
   "metadata": {},
   "outputs": [
    {
     "data": {
      "text/plain": [
       "('mytable',)"
      ]
     },
     "execution_count": 6,
     "metadata": {},
     "output_type": "execute_result"
    }
   ],
   "source": [
    "res = cur.execute(\"SELECT name FROM sqlite_master\") # check if the table is created\n",
    "res.fetchone()"
   ]
  },
  {
   "cell_type": "code",
   "execution_count": 7,
   "metadata": {},
   "outputs": [
    {
     "name": "stdout",
     "output_type": "stream",
     "text": [
      "(0, 'Agency', 'TEXT', 0, None, 0)\n",
      "(1, 'ComplaintType', 'TEXT', 0, None, 0)\n",
      "(2, 'Borough', 'TEXT', 0, None, 0)\n"
     ]
    }
   ],
   "source": [
    "for row in cur.execute(\"PRAGMA table_info(mytable)\"): # check column types\n",
    "    print(row)"
   ]
  },
  {
   "cell_type": "code",
   "execution_count": 8,
   "metadata": {},
   "outputs": [
    {
     "data": {
      "text/plain": [
       "[(0, 'DPR', 'Damaged Tree', 'QUEENS'),\n",
       " (1, 'HPD', 'HEATING', 'Unspecified'),\n",
       " (2, 'TLC', 'Taxi Complaint', 'QUEENS'),\n",
       " (3, 'DOT', 'Street Light Condition', 'BRONX')]"
      ]
     },
     "execution_count": 8,
     "metadata": {},
     "output_type": "execute_result"
    }
   ],
   "source": [
    "records[:4] # check if records look correct - index included even though index=False "
   ]
  },
  {
   "cell_type": "code",
   "execution_count": 9,
   "metadata": {},
   "outputs": [
    {
     "data": {
      "text/plain": [
       "numpy.record"
      ]
     },
     "execution_count": 9,
     "metadata": {},
     "output_type": "execute_result"
    }
   ],
   "source": [
    "type(records[0])"
   ]
  },
  {
   "cell_type": "code",
   "execution_count": 10,
   "metadata": {},
   "outputs": [
    {
     "name": "stdout",
     "output_type": "stream",
     "text": [
      "CPU times: total: 2min 5s\n",
      "Wall time: 2min 6s\n"
     ]
    }
   ],
   "source": [
    "%%time\n",
    "records = [tuple(records[i])[1:4] for i in range(len(records))] # converting numpy.record to tuples\n",
    "cur.executemany(script2, records) # populate table\n",
    "con.commit()"
   ]
  },
  {
   "cell_type": "code",
   "execution_count": 11,
   "metadata": {},
   "outputs": [
    {
     "name": "stdout",
     "output_type": "stream",
     "text": [
      "('DPR', 'QUEENS', 'Damaged Tree')\n",
      "('HPD', 'Unspecified', 'HEATING')\n",
      "('TLC', 'QUEENS', 'Taxi Complaint')\n",
      "('DOT', 'BRONX', 'Street Light Condition')\n",
      "('HPD', 'Unspecified', 'ELECTRIC')\n"
     ]
    }
   ],
   "source": [
    "for row in cur.execute(\"SELECT Agency, Borough, ComplaintType FROM mytable LIMIT 5\"): # check if table is populated\n",
    "    print(row)"
   ]
  },
  {
   "cell_type": "code",
   "execution_count": 12,
   "metadata": {},
   "outputs": [
    {
     "name": "stdout",
     "output_type": "stream",
     "text": [
      "CPU times: total: 22.2 s\n",
      "Wall time: 22.3 s\n"
     ]
    },
    {
     "data": {
      "text/plain": [
       "('Noise - Residential', 3303373)"
      ]
     },
     "execution_count": 12,
     "metadata": {},
     "output_type": "execute_result"
    }
   ],
   "source": [
    "%%time\n",
    "most_common_complaint = cur.execute(\"\"\"\n",
    "    SELECT ComplaintType, COUNT(ComplaintType) AS Count\n",
    "    FROM mytable\n",
    "    GROUP BY ComplaintType\n",
    "    ORDER BY Count DESC\n",
    "    LIMIT 1;\n",
    "\"\"\")\n",
    "\n",
    "most_common_complaint.fetchone()"
   ]
  },
  {
   "cell_type": "code",
   "execution_count": 13,
   "metadata": {},
   "outputs": [
    {
     "name": "stdout",
     "output_type": "stream",
     "text": [
      "CPU times: total: 42.3 s\n",
      "Wall time: 42.4 s\n"
     ]
    },
    {
     "data": {
      "text/plain": [
       "[('BRONX', 'Noise - Residential'),\n",
       " ('BROOKLYN', 'Noise - Residential'),\n",
       " ('MANHATTAN', 'Noise - Residential'),\n",
       " ('QUEENS', 'Illegal Parking'),\n",
       " ('STATEN ISLAND', 'Street Condition'),\n",
       " ('Unspecified', 'HEATING')]"
      ]
     },
     "execution_count": 13,
     "metadata": {},
     "output_type": "execute_result"
    }
   ],
   "source": [
    "%%time\n",
    "most_common_complaints = cur.execute(\"\"\"\n",
    "    WITH RankedComplaints AS (\n",
    "    SELECT\n",
    "        Borough,\n",
    "        ComplaintType,\n",
    "        ROW_NUMBER() OVER(PARTITION BY Borough ORDER BY COUNT(*) DESC) as Rank\n",
    "    FROM mytable\n",
    "    GROUP BY Borough, ComplaintType\n",
    "    )\n",
    "    SELECT Borough, ComplaintType\n",
    "    FROM RankedComplaints\n",
    "    WHERE Rank = 1;\n",
    "\"\"\")\n",
    "\n",
    "most_common_complaints.fetchall()"
   ]
  },
  {
   "cell_type": "code",
   "execution_count": 18,
   "metadata": {},
   "outputs": [
    {
     "name": "stdout",
     "output_type": "stream",
     "text": [
      "CPU times: total: 9.8 s\n",
      "Wall time: 10.6 s\n"
     ]
    },
    {
     "data": {
      "text/plain": [
       "[('3-1-1', 'Illegal Parking', 2),\n",
       " ('DOITT', 'Noise - Residential', 2),\n",
       " ('DOT', 'Street Condition', 1246723),\n",
       " ('HPD', 'HEATING', 887869),\n",
       " ('NYPD', 'Illegal Parking', 2399699),\n",
       " ('NYPD', 'Noise - Residential', 3303371),\n",
       " ('NYPD', 'Street Condition', 6)]"
      ]
     },
     "execution_count": 18,
     "metadata": {},
     "output_type": "execute_result"
    }
   ],
   "source": [
    "%%time\n",
    "agencies_with_complaints_count = cur.execute(\"\"\"\n",
    "    SELECT Agency, ComplaintType, COUNT(*) AS Count\n",
    "    FROM mytable\n",
    "    WHERE ComplaintType IN ('Noise - Residential', 'Illegal Parking', 'Street Condition', 'HEATING')\n",
    "    GROUP BY Agency, ComplaintType\n",
    "    ORDER BY Agency, ComplaintType;\n",
    "\"\"\")\n",
    "\n",
    "agencies_with_complaints_count.fetchall()"
   ]
  },
  {
   "cell_type": "code",
   "execution_count": 20,
   "metadata": {},
   "outputs": [
    {
     "name": "stdout",
     "output_type": "stream",
     "text": [
      "CPU times total: 399.3 s, Wall times total: 295.3 s\n"
     ]
    }
   ],
   "source": [
    "print(f\"CPU times total: {9.8+42.3+22.2+125+200} s, Wall times total: {10.6+42.4+22.3+126+94} s\")"
   ]
  },
  {
   "cell_type": "code",
   "execution_count": 15,
   "metadata": {},
   "outputs": [],
   "source": [
    "con.close()"
   ]
  },
  {
   "cell_type": "code",
   "execution_count": null,
   "metadata": {},
   "outputs": [],
   "source": []
  }
 ],
 "metadata": {
  "kernelspec": {
   "display_name": "Python 3",
   "language": "python",
   "name": "python3"
  },
  "language_info": {
   "codemirror_mode": {
    "name": "ipython",
    "version": 3
   },
   "file_extension": ".py",
   "mimetype": "text/x-python",
   "name": "python",
   "nbconvert_exporter": "python",
   "pygments_lexer": "ipython3",
   "version": "3.11.3"
  }
 },
 "nbformat": 4,
 "nbformat_minor": 2
}
