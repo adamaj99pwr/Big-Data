{
 "cells": [
  {
   "cell_type": "markdown",
   "metadata": {},
   "source": [
    "https://nycopendata.socrata.com/Social-Services/311-Service-Requests-from-2010-to-Present/erm2-nwe9/about_data\n",
    "\n",
    "https://docs.python.org/3/library/sqlite3.html"
   ]
  },
  {
   "cell_type": "code",
   "execution_count": 79,
   "metadata": {},
   "outputs": [],
   "source": [
    "import sqlite3\n",
    "import dask.dataframe as dd\n",
    "import mysql.connector as mysqlc\n",
    "import pandas as pd"
   ]
  },
  {
   "cell_type": "markdown",
   "metadata": {},
   "source": [
    "Plain csv\n",
    "\n",
    "Tried to read the csv with pandas, but received MemoryError - thus using dask.\n",
    "\n",
    "Dask uses parallel computing, operates on data in chunks."
   ]
  },
  {
   "cell_type": "code",
   "execution_count": 40,
   "metadata": {},
   "outputs": [],
   "source": [
    "cols_to_use = [\"Agency\", \"Complaint Type\", \"Borough\"]\n",
    "cols_dtypes = {\"Agency\": \"object\", \"Complaint Type\": \"object\", \"Borough\": \"object\"}\n",
    "data = dd.read_csv(\"../../311sr.csv\", usecols=cols_to_use, dtype=cols_dtypes)"
   ]
  },
  {
   "cell_type": "code",
   "execution_count": 37,
   "metadata": {},
   "outputs": [
    {
     "data": {
      "text/plain": [
       "Agency                0\n",
       "Complaint Type        0\n",
       "Borough           47074\n",
       "dtype: int64"
      ]
     },
     "execution_count": 37,
     "metadata": {},
     "output_type": "execute_result"
    }
   ],
   "source": [
    "data.isna().sum().compute()"
   ]
  },
  {
   "cell_type": "code",
   "execution_count": 41,
   "metadata": {},
   "outputs": [
    {
     "data": {
      "text/plain": [
       "0           QUEENS\n",
       "1      Unspecified\n",
       "2            BRONX\n",
       "3         BROOKLYN\n",
       "4        MANHATTAN\n",
       "5    STATEN ISLAND\n",
       "6              NaN\n",
       "Name: Borough, dtype: object"
      ]
     },
     "execution_count": 41,
     "metadata": {},
     "output_type": "execute_result"
    }
   ],
   "source": [
    "data[\"Borough\"].unique().compute()"
   ]
  },
  {
   "cell_type": "code",
   "execution_count": 42,
   "metadata": {},
   "outputs": [],
   "source": [
    "data[\"Borough\"] = data[\"Borough\"].fillna(\"Unspecified\")"
   ]
  },
  {
   "cell_type": "code",
   "execution_count": 43,
   "metadata": {},
   "outputs": [
    {
     "data": {
      "text/plain": [
       "Agency            0\n",
       "Complaint Type    0\n",
       "Borough           0\n",
       "dtype: int64"
      ]
     },
     "execution_count": 43,
     "metadata": {},
     "output_type": "execute_result"
    }
   ],
   "source": [
    "data.isna().sum().compute()"
   ]
  },
  {
   "cell_type": "code",
   "execution_count": 44,
   "metadata": {},
   "outputs": [
    {
     "data": {
      "text/plain": [
       "{'Agency': dtype('O'), 'Complaint Type': dtype('O'), 'Borough': dtype('O')}"
      ]
     },
     "execution_count": 44,
     "metadata": {},
     "output_type": "execute_result"
    }
   ],
   "source": [
    "coltypes = dict(data.dtypes)\n",
    "coltypes"
   ]
  },
  {
   "cell_type": "code",
   "execution_count": 45,
   "metadata": {},
   "outputs": [
    {
     "name": "stdout",
     "output_type": "stream",
     "text": [
      "CPU times: total: 3min 8s\n",
      "Wall time: 1min 6s\n"
     ]
    }
   ],
   "source": [
    "%%time\n",
    "most_common_complaint = data[\"Complaint Type\"].value_counts().compute().idxmax()"
   ]
  },
  {
   "cell_type": "code",
   "execution_count": 46,
   "metadata": {},
   "outputs": [
    {
     "name": "stdout",
     "output_type": "stream",
     "text": [
      "Noise - Residential\n"
     ]
    }
   ],
   "source": [
    "print(most_common_complaint)"
   ]
  },
  {
   "cell_type": "code",
   "execution_count": 47,
   "metadata": {},
   "outputs": [
    {
     "name": "stdout",
     "output_type": "stream",
     "text": [
      "CPU times: total: 3min 4s\n",
      "Wall time: 1min 4s\n"
     ]
    }
   ],
   "source": [
    "%%time\n",
    "complaint_counts_by_borough = data.groupby(\"Borough\")[\"Complaint Type\"].value_counts().compute()\n",
    "most_common_complaints = complaint_counts_by_borough.groupby(\"Borough\").idxmax()"
   ]
  },
  {
   "cell_type": "code",
   "execution_count": 48,
   "metadata": {},
   "outputs": [
    {
     "name": "stdout",
     "output_type": "stream",
     "text": [
      "Borough\n",
      "BRONX                 (BRONX, Noise - Residential)\n",
      "BROOKLYN           (BROOKLYN, Noise - Residential)\n",
      "MANHATTAN         (MANHATTAN, Noise - Residential)\n",
      "QUEENS                   (QUEENS, Illegal Parking)\n",
      "STATEN ISLAND    (STATEN ISLAND, Street Condition)\n",
      "Unspecified                 (Unspecified, HEATING)\n",
      "Name: count, dtype: object\n"
     ]
    }
   ],
   "source": [
    "print(most_common_complaints)"
   ]
  },
  {
   "cell_type": "code",
   "execution_count": 49,
   "metadata": {},
   "outputs": [
    {
     "name": "stdout",
     "output_type": "stream",
     "text": [
      "CPU times: total: 2min 57s\n",
      "Wall time: 1min 1s\n"
     ]
    }
   ],
   "source": [
    "%%time\n",
    "complaints_list = [\"Noise - Residential\", \"Illegal Parking\", \"Street Condition\", \"HEATING\"]\n",
    "agencies_with_complaints = data[data[\"Complaint Type\"].isin(complaints_list)]\n",
    "agencies_with_complaints_count = agencies_with_complaints.groupby([\"Agency\", \"Complaint Type\"]).size().compute()"
   ]
  },
  {
   "cell_type": "code",
   "execution_count": 50,
   "metadata": {},
   "outputs": [
    {
     "name": "stdout",
     "output_type": "stream",
     "text": [
      "Agency  Complaint Type     \n",
      "DOT     Street Condition       1246723\n",
      "HPD     HEATING                 887869\n",
      "NYPD    Illegal Parking        2399699\n",
      "        Noise - Residential    3303371\n",
      "3-1-1   Illegal Parking              2\n",
      "NYPD    Street Condition             6\n",
      "DOITT   Noise - Residential          2\n",
      "dtype: int64\n"
     ]
    }
   ],
   "source": [
    "print(agencies_with_complaints_count)"
   ]
  },
  {
   "cell_type": "markdown",
   "metadata": {},
   "source": [
    "SQLite"
   ]
  },
  {
   "cell_type": "code",
   "execution_count": 3,
   "metadata": {},
   "outputs": [],
   "source": [
    "cols_to_use = [\"Agency\", \"Complaint Type\", \"Borough\"]\n",
    "cols_dtypes = {\"Agency\": \"object\", \"Complaint Type\": \"object\", \"Borough\": \"object\"}\n",
    "data = dd.read_csv(\"../../311sr.csv\", usecols=cols_to_use, dtype=cols_dtypes)\n",
    "data = data.rename(columns={'Complaint Type': 'ComplaintType'})\n",
    "data[\"Borough\"] = data[\"Borough\"].fillna(\"Unspecified\")"
   ]
  },
  {
   "cell_type": "code",
   "execution_count": 4,
   "metadata": {},
   "outputs": [],
   "source": [
    "script = \"CREATE TABLE mytable(Agency TEXT, ComplaintType TEXT, Borough TEXT)\"\n",
    "script2 = \"INSERT INTO mytable VALUES(?, ?, ?)\""
   ]
  },
  {
   "cell_type": "code",
   "execution_count": 17,
   "metadata": {},
   "outputs": [
    {
     "name": "stdout",
     "output_type": "stream",
     "text": [
      "CPU times: total: 3min 20s\n",
      "Wall time: 1min 34s\n"
     ]
    }
   ],
   "source": [
    "%%time\n",
    "records = data.to_records(index=False).compute()\n",
    "records = list(records) # create a list of tuples representing rows\n",
    "con = sqlite3.connect(\"task2.db\") # create a connection to database\n",
    "cur = con.cursor() # create database cursor\n",
    "cur.execute(script) # create table"
   ]
  },
  {
   "cell_type": "code",
   "execution_count": 6,
   "metadata": {},
   "outputs": [
    {
     "data": {
      "text/plain": [
       "('mytable',)"
      ]
     },
     "execution_count": 6,
     "metadata": {},
     "output_type": "execute_result"
    }
   ],
   "source": [
    "res = cur.execute(\"SELECT name FROM sqlite_master\") # check if the table is created\n",
    "res.fetchone()"
   ]
  },
  {
   "cell_type": "code",
   "execution_count": 7,
   "metadata": {},
   "outputs": [
    {
     "name": "stdout",
     "output_type": "stream",
     "text": [
      "(0, 'Agency', 'TEXT', 0, None, 0)\n",
      "(1, 'ComplaintType', 'TEXT', 0, None, 0)\n",
      "(2, 'Borough', 'TEXT', 0, None, 0)\n"
     ]
    }
   ],
   "source": [
    "for row in cur.execute(\"PRAGMA table_info(mytable)\"): # check column types\n",
    "    print(row)"
   ]
  },
  {
   "cell_type": "code",
   "execution_count": 8,
   "metadata": {},
   "outputs": [
    {
     "data": {
      "text/plain": [
       "[(0, 'DPR', 'Damaged Tree', 'QUEENS'),\n",
       " (1, 'HPD', 'HEATING', 'Unspecified'),\n",
       " (2, 'TLC', 'Taxi Complaint', 'QUEENS'),\n",
       " (3, 'DOT', 'Street Light Condition', 'BRONX')]"
      ]
     },
     "execution_count": 8,
     "metadata": {},
     "output_type": "execute_result"
    }
   ],
   "source": [
    "records[:4] # check if records look correct - index included even though index=False "
   ]
  },
  {
   "cell_type": "code",
   "execution_count": 9,
   "metadata": {},
   "outputs": [
    {
     "data": {
      "text/plain": [
       "numpy.record"
      ]
     },
     "execution_count": 9,
     "metadata": {},
     "output_type": "execute_result"
    }
   ],
   "source": [
    "type(records[0])"
   ]
  },
  {
   "cell_type": "code",
   "execution_count": 10,
   "metadata": {},
   "outputs": [
    {
     "name": "stdout",
     "output_type": "stream",
     "text": [
      "CPU times: total: 2min 5s\n",
      "Wall time: 2min 6s\n"
     ]
    }
   ],
   "source": [
    "%%time\n",
    "records = [tuple(records[i])[1:4] for i in range(len(records))] # converting numpy.record to tuples\n",
    "cur.executemany(script2, records) # populate table\n",
    "con.commit()"
   ]
  },
  {
   "cell_type": "code",
   "execution_count": 11,
   "metadata": {},
   "outputs": [
    {
     "name": "stdout",
     "output_type": "stream",
     "text": [
      "('DPR', 'QUEENS', 'Damaged Tree')\n",
      "('HPD', 'Unspecified', 'HEATING')\n",
      "('TLC', 'QUEENS', 'Taxi Complaint')\n",
      "('DOT', 'BRONX', 'Street Light Condition')\n",
      "('HPD', 'Unspecified', 'ELECTRIC')\n"
     ]
    }
   ],
   "source": [
    "check = cur.execute(\"SELECT Agency, Borough, ComplaintType FROM mytable LIMIT 5\") # check if table is populated\n",
    "print(check)"
   ]
  },
  {
   "cell_type": "code",
   "execution_count": 12,
   "metadata": {},
   "outputs": [
    {
     "name": "stdout",
     "output_type": "stream",
     "text": [
      "CPU times: total: 22.2 s\n",
      "Wall time: 22.3 s\n"
     ]
    },
    {
     "data": {
      "text/plain": [
       "('Noise - Residential', 3303373)"
      ]
     },
     "execution_count": 12,
     "metadata": {},
     "output_type": "execute_result"
    }
   ],
   "source": [
    "%%time\n",
    "most_common_complaint = cur.execute(\"\"\"\n",
    "    SELECT ComplaintType, COUNT(ComplaintType) AS Count\n",
    "    FROM mytable\n",
    "    GROUP BY ComplaintType\n",
    "    ORDER BY Count DESC\n",
    "    LIMIT 1;\n",
    "\"\"\")\n",
    "\n",
    "most_common_complaint.fetchone()"
   ]
  },
  {
   "cell_type": "code",
   "execution_count": 13,
   "metadata": {},
   "outputs": [
    {
     "name": "stdout",
     "output_type": "stream",
     "text": [
      "CPU times: total: 42.3 s\n",
      "Wall time: 42.4 s\n"
     ]
    },
    {
     "data": {
      "text/plain": [
       "[('BRONX', 'Noise - Residential'),\n",
       " ('BROOKLYN', 'Noise - Residential'),\n",
       " ('MANHATTAN', 'Noise - Residential'),\n",
       " ('QUEENS', 'Illegal Parking'),\n",
       " ('STATEN ISLAND', 'Street Condition'),\n",
       " ('Unspecified', 'HEATING')]"
      ]
     },
     "execution_count": 13,
     "metadata": {},
     "output_type": "execute_result"
    }
   ],
   "source": [
    "%%time\n",
    "most_common_complaints = cur.execute(\"\"\"\n",
    "    WITH RankedComplaints AS (\n",
    "    SELECT\n",
    "        Borough,\n",
    "        ComplaintType,\n",
    "        ROW_NUMBER() OVER(PARTITION BY Borough ORDER BY COUNT(*) DESC) as Rank\n",
    "    FROM mytable\n",
    "    GROUP BY Borough, ComplaintType\n",
    "    )\n",
    "    SELECT Borough, ComplaintType\n",
    "    FROM RankedComplaints\n",
    "    WHERE Rank = 1;\n",
    "\"\"\")\n",
    "\n",
    "most_common_complaints.fetchall()"
   ]
  },
  {
   "cell_type": "code",
   "execution_count": 18,
   "metadata": {},
   "outputs": [
    {
     "name": "stdout",
     "output_type": "stream",
     "text": [
      "CPU times: total: 9.8 s\n",
      "Wall time: 10.6 s\n"
     ]
    },
    {
     "data": {
      "text/plain": [
       "[('3-1-1', 'Illegal Parking', 2),\n",
       " ('DOITT', 'Noise - Residential', 2),\n",
       " ('DOT', 'Street Condition', 1246723),\n",
       " ('HPD', 'HEATING', 887869),\n",
       " ('NYPD', 'Illegal Parking', 2399699),\n",
       " ('NYPD', 'Noise - Residential', 3303371),\n",
       " ('NYPD', 'Street Condition', 6)]"
      ]
     },
     "execution_count": 18,
     "metadata": {},
     "output_type": "execute_result"
    }
   ],
   "source": [
    "%%time\n",
    "agencies_with_complaints_count = cur.execute(\"\"\"\n",
    "    SELECT Agency, ComplaintType, COUNT(*) AS Count\n",
    "    FROM mytable\n",
    "    WHERE ComplaintType IN ('Noise - Residential', 'Illegal Parking', 'Street Condition', 'HEATING')\n",
    "    GROUP BY Agency, ComplaintType\n",
    "    ORDER BY Agency, ComplaintType;\n",
    "\"\"\")\n",
    "\n",
    "agencies_with_complaints_count.fetchall()"
   ]
  },
  {
   "cell_type": "code",
   "execution_count": 15,
   "metadata": {},
   "outputs": [],
   "source": [
    "con.close()"
   ]
  },
  {
   "cell_type": "markdown",
   "metadata": {},
   "source": [
    "MySQL"
   ]
  },
  {
   "cell_type": "code",
   "execution_count": 5,
   "metadata": {},
   "outputs": [],
   "source": [
    "cols_to_use = [\"Agency\", \"Complaint Type\", \"Borough\"]\n",
    "cols_dtypes = {\"Agency\": \"object\", \"Complaint Type\": \"object\", \"Borough\": \"object\"}\n",
    "data = dd.read_csv(\"../../311sr.csv\", usecols=cols_to_use, dtype=cols_dtypes)\n",
    "data = data.rename(columns={'Complaint Type': 'ComplaintType'})\n",
    "data[\"Borough\"] = data[\"Borough\"].fillna(\"Unspecified\")"
   ]
  },
  {
   "cell_type": "code",
   "execution_count": 12,
   "metadata": {},
   "outputs": [],
   "source": [
    "script = \"CREATE TABLE mytable(Agency TEXT, ComplaintType TEXT, Borough TEXT)\"\n",
    "script2 = \"INSERT INTO mytable (Agency, ComplaintType, Borough) VALUES(%s, %s, %s)\""
   ]
  },
  {
   "cell_type": "code",
   "execution_count": 7,
   "metadata": {},
   "outputs": [
    {
     "name": "stdout",
     "output_type": "stream",
     "text": [
      "CPU times: total: 1min 6s\n",
      "Wall time: 1min 49s\n"
     ]
    }
   ],
   "source": [
    "%%time\n",
    "records = data.to_records(index=False).compute()\n",
    "records = list(records) # create a list of tuples representing rows\n",
    "mydb = mysqlc.connect(host=\"localhost\", user=\"root\", password=\"1234\", database=\"bigdata\")\n",
    "mycursor = mydb.cursor()\n",
    "mycursor.execute(script)"
   ]
  },
  {
   "cell_type": "code",
   "execution_count": 19,
   "metadata": {},
   "outputs": [
    {
     "data": {
      "text/plain": [
       "[('mytable',)]"
      ]
     },
     "execution_count": 19,
     "metadata": {},
     "output_type": "execute_result"
    }
   ],
   "source": [
    "mycursor.fetchall()"
   ]
  },
  {
   "cell_type": "code",
   "execution_count": 29,
   "metadata": {},
   "outputs": [],
   "source": [
    "query = \"\"\"\n",
    "SELECT COLUMN_NAME, DATA_TYPE\n",
    "FROM INFORMATION_SCHEMA.COLUMNS\n",
    "WHERE TABLE_SCHEMA = 'bigdata' AND TABLE_NAME = 'mytable';\n",
    "\"\"\"\n",
    "mycursor.execute(query)"
   ]
  },
  {
   "cell_type": "code",
   "execution_count": 30,
   "metadata": {},
   "outputs": [
    {
     "data": {
      "text/plain": [
       "[('Agency', 'text'), ('ComplaintType', 'text'), ('Borough', 'text')]"
      ]
     },
     "execution_count": 30,
     "metadata": {},
     "output_type": "execute_result"
    }
   ],
   "source": [
    "mycursor.fetchall()"
   ]
  },
  {
   "cell_type": "code",
   "execution_count": 36,
   "metadata": {},
   "outputs": [
    {
     "name": "stdout",
     "output_type": "stream",
     "text": [
      "CPU times: total: 1min 45s\n",
      "Wall time: 1min 56s\n"
     ]
    }
   ],
   "source": [
    "%%time\n",
    "records = [tuple(records[i])[1:4] for i in range(len(records))] # converting numpy.record to tuples"
   ]
  },
  {
   "cell_type": "code",
   "execution_count": 72,
   "metadata": {},
   "outputs": [
    {
     "name": "stdout",
     "output_type": "stream",
     "text": [
      "CPU times: total: 1min 54s\n",
      "Wall time: 9min 23s\n"
     ]
    }
   ],
   "source": [
    "%%time\n",
    "for i in range(0, len(records), 10000): # inserting in batches, otherwise connection is lost\n",
    "    batch = records[i:i+10000]\n",
    "    mycursor.executemany(script2, batch) # populate table\n",
    "    mydb.commit()"
   ]
  },
  {
   "cell_type": "code",
   "execution_count": 73,
   "metadata": {},
   "outputs": [
    {
     "data": {
      "text/plain": [
       "[('NYPD', 'MANHATTAN', 'Noise - Residential'),\n",
       " ('OSE', 'BROOKLYN', 'NonCompliance with Phased Reopening'),\n",
       " ('DSNY', 'BROOKLYN', 'Overflowing Litter Baskets'),\n",
       " ('NYPD', 'BROOKLYN', 'Noise - Residential'),\n",
       " ('NYPD', 'BROOKLYN', 'Noise - Street/Sidewalk')]"
      ]
     },
     "execution_count": 73,
     "metadata": {},
     "output_type": "execute_result"
    }
   ],
   "source": [
    "mycursor.execute(\"SELECT Agency, Borough, ComplaintType FROM mytable LIMIT 5\")\n",
    "mycursor.fetchall()"
   ]
  },
  {
   "cell_type": "code",
   "execution_count": 78,
   "metadata": {},
   "outputs": [
    {
     "name": "stdout",
     "output_type": "stream",
     "text": [
      "CPU times: total: 0 ns\n",
      "Wall time: 3min 9s\n"
     ]
    },
    {
     "data": {
      "text/plain": [
       "[('Noise - Residential', 3304053)]"
      ]
     },
     "execution_count": 78,
     "metadata": {},
     "output_type": "execute_result"
    }
   ],
   "source": [
    "%%time\n",
    "mycursor.execute(\"\"\"\n",
    "    SELECT ComplaintType, COUNT(ComplaintType) AS Count\n",
    "    FROM mytable\n",
    "    GROUP BY ComplaintType\n",
    "    ORDER BY Count DESC\n",
    "    LIMIT 1;\n",
    "\"\"\")\n",
    "\n",
    "mycursor.fetchall()"
   ]
  },
  {
   "cell_type": "code",
   "execution_count": 82,
   "metadata": {},
   "outputs": [
    {
     "name": "stdout",
     "output_type": "stream",
     "text": [
      "CPU times: total: 0 ns\n",
      "Wall time: 3min 44s\n"
     ]
    },
    {
     "data": {
      "text/plain": [
       "[('BRONX', 'Noise - Residential'),\n",
       " ('BROOKLYN', 'Noise - Residential'),\n",
       " ('MANHATTAN', 'Noise - Residential'),\n",
       " ('QUEENS', 'Illegal Parking'),\n",
       " ('STATEN ISLAND', 'Street Condition'),\n",
       " ('Unspecified', 'HEATING')]"
      ]
     },
     "execution_count": 82,
     "metadata": {},
     "output_type": "execute_result"
    }
   ],
   "source": [
    "%%time\n",
    "mycursor.execute(\"\"\"\n",
    "    WITH RankedComplaints AS (\n",
    "    SELECT Borough, ComplaintType, ROW_NUMBER() OVER(PARTITION BY Borough ORDER BY COUNT(*) DESC) as R\n",
    "    FROM mytable\n",
    "    GROUP BY Borough, ComplaintType\n",
    "    )\n",
    "    SELECT Borough, ComplaintType\n",
    "    FROM RankedComplaints\n",
    "    WHERE R = 1;\n",
    "\"\"\")\n",
    "\n",
    "mycursor.fetchall()"
   ]
  },
  {
   "cell_type": "code",
   "execution_count": 83,
   "metadata": {},
   "outputs": [
    {
     "name": "stdout",
     "output_type": "stream",
     "text": [
      "CPU times: total: 0 ns\n",
      "Wall time: 45.8 s\n"
     ]
    },
    {
     "data": {
      "text/plain": [
       "[('3-1-1', 'Illegal Parking', 2),\n",
       " ('DOITT', 'Noise - Residential', 2),\n",
       " ('DOT', 'Street Condition', 1246403),\n",
       " ('HPD', 'HEATING', 887869),\n",
       " ('NYC311-PRD', 'Street Condition', 691),\n",
       " ('NYPD', 'Illegal Parking', 2401183),\n",
       " ('NYPD', 'Noise - Residential', 3304051),\n",
       " ('NYPD', 'Street Condition', 6)]"
      ]
     },
     "execution_count": 83,
     "metadata": {},
     "output_type": "execute_result"
    }
   ],
   "source": [
    "%%time\n",
    "mycursor.execute(\"\"\"\n",
    "    SELECT Agency, ComplaintType, COUNT(*) AS C\n",
    "    FROM mytable\n",
    "    WHERE ComplaintType IN ('Noise - Residential', 'Illegal Parking', 'Street Condition', 'HEATING')\n",
    "    GROUP BY Agency, ComplaintType\n",
    "    ORDER BY Agency, ComplaintType;\n",
    "\"\"\")\n",
    "\n",
    "mycursor.fetchall()"
   ]
  },
  {
   "cell_type": "markdown",
   "metadata": {},
   "source": [
    "Results"
   ]
  },
  {
   "cell_type": "code",
   "execution_count": 86,
   "metadata": {},
   "outputs": [
    {
     "data": {
      "text/html": [
       "<div>\n",
       "<style scoped>\n",
       "    .dataframe tbody tr th:only-of-type {\n",
       "        vertical-align: middle;\n",
       "    }\n",
       "\n",
       "    .dataframe tbody tr th {\n",
       "        vertical-align: top;\n",
       "    }\n",
       "\n",
       "    .dataframe thead th {\n",
       "        text-align: right;\n",
       "    }\n",
       "</style>\n",
       "<table border=\"1\" class=\"dataframe\">\n",
       "  <thead>\n",
       "    <tr style=\"text-align: right;\">\n",
       "      <th></th>\n",
       "      <th>time</th>\n",
       "      <th>query</th>\n",
       "      <th>csv</th>\n",
       "      <th>sqlite</th>\n",
       "      <th>mysql</th>\n",
       "    </tr>\n",
       "  </thead>\n",
       "  <tbody>\n",
       "    <tr>\n",
       "      <th>0</th>\n",
       "      <td>cpu</td>\n",
       "      <td>1</td>\n",
       "      <td>188</td>\n",
       "      <td>22.2</td>\n",
       "      <td>0.0</td>\n",
       "    </tr>\n",
       "    <tr>\n",
       "      <th>1</th>\n",
       "      <td>cpu</td>\n",
       "      <td>2</td>\n",
       "      <td>184</td>\n",
       "      <td>42.3</td>\n",
       "      <td>0.0</td>\n",
       "    </tr>\n",
       "    <tr>\n",
       "      <th>2</th>\n",
       "      <td>cpu</td>\n",
       "      <td>3</td>\n",
       "      <td>177</td>\n",
       "      <td>9.8</td>\n",
       "      <td>0.0</td>\n",
       "    </tr>\n",
       "    <tr>\n",
       "      <th>3</th>\n",
       "      <td>wall</td>\n",
       "      <td>1</td>\n",
       "      <td>66</td>\n",
       "      <td>22.3</td>\n",
       "      <td>189.0</td>\n",
       "    </tr>\n",
       "    <tr>\n",
       "      <th>4</th>\n",
       "      <td>wall</td>\n",
       "      <td>2</td>\n",
       "      <td>64</td>\n",
       "      <td>42.4</td>\n",
       "      <td>224.0</td>\n",
       "    </tr>\n",
       "    <tr>\n",
       "      <th>5</th>\n",
       "      <td>wall</td>\n",
       "      <td>3</td>\n",
       "      <td>61</td>\n",
       "      <td>10.6</td>\n",
       "      <td>45.8</td>\n",
       "    </tr>\n",
       "  </tbody>\n",
       "</table>\n",
       "</div>"
      ],
      "text/plain": [
       "   time  query  csv  sqlite  mysql\n",
       "0   cpu      1  188    22.2    0.0\n",
       "1   cpu      2  184    42.3    0.0\n",
       "2   cpu      3  177     9.8    0.0\n",
       "3  wall      1   66    22.3  189.0\n",
       "4  wall      2   64    42.4  224.0\n",
       "5  wall      3   61    10.6   45.8"
      ]
     },
     "execution_count": 86,
     "metadata": {},
     "output_type": "execute_result"
    }
   ],
   "source": [
    "query_time = pd.read_csv(\"queries.csv\", delimiter=\";\")\n",
    "query_time"
   ]
  },
  {
   "cell_type": "code",
   "execution_count": 90,
   "metadata": {},
   "outputs": [
    {
     "name": "stdout",
     "output_type": "stream",
     "text": [
      "CPU times total (sqlite): 399.3 s, Wall times total (sqlite): 295.3 s\n"
     ]
    }
   ],
   "source": [
    "print(f\"CPU times total (sqlite): {9.8+42.3+22.2+125+200} s, Wall times total (sqlite): {10.6+42.4+22.3+126+94} s\")"
   ]
  },
  {
   "cell_type": "code",
   "execution_count": 89,
   "metadata": {},
   "outputs": [
    {
     "name": "stdout",
     "output_type": "stream",
     "text": [
      "CPU times total (mysql): 285 s, Wall times total (mysql): 1246.8 s\n"
     ]
    }
   ],
   "source": [
    "print(f\"CPU times total (mysql): {66 + 105 + 114} s, Wall times total (mysql): {45.8 + 224 + 189 + 109 + 116 + 563} s\")"
   ]
  },
  {
   "cell_type": "code",
   "execution_count": null,
   "metadata": {},
   "outputs": [],
   "source": []
  }
 ],
 "metadata": {
  "kernelspec": {
   "display_name": "Python 3",
   "language": "python",
   "name": "python3"
  },
  "language_info": {
   "codemirror_mode": {
    "name": "ipython",
    "version": 3
   },
   "file_extension": ".py",
   "mimetype": "text/x-python",
   "name": "python",
   "nbconvert_exporter": "python",
   "pygments_lexer": "ipython3",
   "version": "3.10.11"
  }
 },
 "nbformat": 4,
 "nbformat_minor": 2
}
